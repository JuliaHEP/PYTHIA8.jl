{
 "cells": [
  {
   "cell_type": "markdown",
   "source": [
    "# PYTHIA8.jl Tutorial\n",
    "This turorial demostrates a simple application of PYTHIA8.jl to generate some\n",
    "events and present the results in form of histograms. Please refer to the PYTHIA\n",
    "[documentation](https://pythia.org/manuals/pythia8312/Welcome.html) for more details\n",
    "on the parameters and the physics processes.\n",
    "\n",
    "\n",
    "\n",
    "## Generate events and plot the charged multiplicity distribution\n",
    "In this example, we will generate 200 events at a center of mass energy of 8000 GeV\n",
    "and plot the charged multiplicity distribution.\n",
    "\n",
    "### Loading the necessary modules\n",
    "- We will use the `PYTHIA8` module to run the event generation.\n",
    "- We will use the [`FHist`](https://moelf.github.io/FHist.jl/stable/) module to create the histograms.\n",
    "- We will use the [`Plots`](https://docs.juliaplots.org/stable/) module to plot them.\n",
    "If these modules are not installed, you can install them by running the following commands:\n",
    "```julia\n",
    "using Pkg\n",
    "Pkg.add(\"PYTHIA8\")\n",
    "Pkg.add(\"FHist\")\n",
    "Pkg.add(\"Plots\")\n",
    "```"
   ],
   "metadata": {}
  },
  {
   "outputs": [],
   "cell_type": "code",
   "source": [
    "using PYTHIA8\n",
    "using FHist\n",
    "using Plots: plot, plot!, theme"
   ],
   "metadata": {},
   "execution_count": null
  },
  {
   "cell_type": "markdown",
   "source": [
    "Define the theme for the plots. See available [themes](https://docs.juliaplots.org/stable/generated/plotthemes/)\n",
    "and [attributes](https://docs.juliaplots.org/stable/attributes/) in Plots.jl."
   ],
   "metadata": {}
  },
  {
   "outputs": [],
   "cell_type": "code",
   "source": [
    "theme(:wong2, frame=:box, grid=false, minorticks=true,\n",
    "      guidefontvalign=:top, guidefonthalign=:right,\n",
    "      xlims=(:auto, :auto), lw=1.2, lab=\"\", colorbar=false)"
   ],
   "metadata": {},
   "execution_count": null
  },
  {
   "cell_type": "markdown",
   "source": [
    "### Initialize PYTHIA\n",
    "We will initialize PYTHIA with the following settings:\n",
    "- Center of mass energy of the collision: 8000 GeV\n",
    "- All hard QCD processes are enabled\n",
    "- Minimum transverse momentum of the hard process: 20 GeV\n",
    "\n",
    "We use the operator `<<` to set the parameters and the operator `|>` to pipe to\n",
    "the `init` function.\n",
    "This added interface is quite ergonomic, however alternatively, we can use the functions directly\n",
    "provided by C++ interface, e.g.,\n",
    "- `readString(pythia, \"Beams:eCM = 8000.\")` or\n",
    "- `parm( settings(pythia), \"Beams:eCM\", 8000.)`"
   ],
   "metadata": {}
  },
  {
   "outputs": [],
   "cell_type": "code",
   "source": [
    "pythia = PYTHIA8.Pythia(\"\", false);\n",
    "pythia << \"Beams:eCM = 8000.\" <<\n",
    "          \"HardQCD:all = on\" <<\n",
    "          \"PhaseSpace:pTHatMin = 20.\";"
   ],
   "metadata": {},
   "execution_count": null
  },
  {
   "cell_type": "markdown",
   "source": [
    "The purpose of the next two lines is to reduce the amount of output during the event generation"
   ],
   "metadata": {}
  },
  {
   "outputs": [],
   "cell_type": "code",
   "source": [
    "pythia << \"Next:numberShowEvent = 0\" <<\n",
    "          \"Next:numberShowProcess = 0\";"
   ],
   "metadata": {},
   "execution_count": null
  },
  {
   "cell_type": "markdown",
   "source": [
    "Initialize the event generation. The `init` function returns a boolean value.\n",
    "Alternatively, we can use the direct call to `init(pythia)` function."
   ],
   "metadata": {}
  },
  {
   "outputs": [],
   "cell_type": "code",
   "source": [
    "pythia |> init;"
   ],
   "metadata": {},
   "execution_count": null
  },
  {
   "cell_type": "markdown",
   "source": [
    "### Create a 1D histogram\n",
    "We will create a histogram to store the charged multiplicity distribution. The histogram\n",
    "is defined with 25 bins ranging from -0.5 to 499.5. Note that with `ranges` we need to specify\n",
    "the number of edges (26) and not the number of bins (25)"
   ],
   "metadata": {}
  },
  {
   "outputs": [],
   "cell_type": "code",
   "source": [
    "mult = Hist1D(binedges=range(-0.5, 499.5, 26));"
   ],
   "metadata": {},
   "execution_count": null
  },
  {
   "cell_type": "markdown",
   "source": [
    "### Generate events\n",
    "We will generate 200 events and fill the histogram with the number of charged particles making\n",
    "use of the [`count`](https://docs.julialang.org/en/v1/base/collections/#Base.count) function. We use the\n",
    "`push!` function to fill the histogram."
   ],
   "metadata": {}
  },
  {
   "outputs": [],
   "cell_type": "code",
   "source": [
    "for iEvent in 1:200\n",
    "    pythia |> next || continue\n",
    "    # Find number of all final charged particles and fill histogram.\n",
    "    nCharged = count(p -> isFinal(p) && isCharged(p), pythia |> event)\n",
    "    push!(mult, nCharged)\n",
    "end"
   ],
   "metadata": {},
   "execution_count": null
  },
  {
   "cell_type": "markdown",
   "source": [
    "### Print the statistics and plot charged multiplicity distribution\n",
    "Print the generation statistics using the `stat` function from PYTHIA."
   ],
   "metadata": {}
  },
  {
   "outputs": [],
   "cell_type": "code",
   "source": [
    "pythia |> PYTHIA8.stat"
   ],
   "metadata": {},
   "execution_count": null
  },
  {
   "cell_type": "markdown",
   "source": [
    "Plot the histogram with the `plot` function from Plots.jl. We use the `stepbins` seriestype\n",
    "to plot the histogram as a step plot."
   ],
   "metadata": {}
  },
  {
   "outputs": [],
   "cell_type": "code",
   "source": [
    "img = plot(mult, xlabel=\"counts\", ylabel=\"#particles\",\n",
    "           title=\"Charged Multiplicity Distribution\", seriestype=:stepbins,\n",
    "           c=2, lc=1, fill=0);\n",
    "display(img)"
   ],
   "metadata": {},
   "execution_count": null
  },
  {
   "cell_type": "markdown",
   "source": [
    "## Multi-threaded version of the same example\n",
    "In this example we repeat the same example as before but using multi-threading to\n",
    "generate the events faster."
   ],
   "metadata": {}
  },
  {
   "cell_type": "markdown",
   "source": [
    "### Initialize Parallel PYTHIA\n",
    "Create an instance of `PythiaParallel` with the same settings as before. The `PythiaParallel`\n",
    "class is used to generate events concurrently using multiple threads. The settings are copied\n",
    "for each Pythia instance."
   ],
   "metadata": {}
  },
  {
   "outputs": [],
   "cell_type": "code",
   "source": [
    "pythia_mt = PYTHIA8.PythiaParallel(\"\", false);"
   ],
   "metadata": {},
   "execution_count": null
  },
  {
   "cell_type": "markdown",
   "source": [
    "PythiaParallel reads settings the same way as the normal Pythia does."
   ],
   "metadata": {}
  },
  {
   "outputs": [],
   "cell_type": "code",
   "source": [
    "pythia_mt << \"Beams:eCM = 8000.\" <<\n",
    "             \"HardQCD:all = on\" <<\n",
    "             \"PhaseSpace:pTHatMin = 20.\";"
   ],
   "metadata": {},
   "execution_count": null
  },
  {
   "cell_type": "markdown",
   "source": [
    "The maximum degree of parallelism. If set to 0 (default), the program\n",
    "will use the maximum number of threads supported by the hardware."
   ],
   "metadata": {}
  },
  {
   "outputs": [],
   "cell_type": "code",
   "source": [
    "pythia_mt << \"Parallelism:numThreads = 4\";"
   ],
   "metadata": {},
   "execution_count": null
  },
  {
   "cell_type": "markdown",
   "source": [
    "This defines the number of events generated by PythiaParallel::run."
   ],
   "metadata": {}
  },
  {
   "outputs": [],
   "cell_type": "code",
   "source": [
    "pythia_mt << \"Main:numberOfEvents = 200\";"
   ],
   "metadata": {},
   "execution_count": null
  },
  {
   "cell_type": "markdown",
   "source": [
    "The next is a user provided function to initialize each underlying Pythia instance (one per thread).\n",
    "Please note that the function is called concurrently, therefore the use needs to avoid calling\n",
    "thread-unsafe functions. This is the reason we use the `Core.println` function instead of `println`."
   ],
   "metadata": {}
  },
  {
   "outputs": [],
   "cell_type": "code",
   "source": [
    "function w_init(pythia)::CxxBool\n",
    "    Core.println(\"Initializing Pythia with index $(mode(pythia |> settings, \"Parallelism:index\")).\")\n",
    "    return pythia |> init\n",
    "end;"
   ],
   "metadata": {},
   "execution_count": null
  },
  {
   "cell_type": "markdown",
   "source": [
    "Initialize the event generation. The `init` function returns a boolean value to indicate the success. The user\n",
    "provided function `w_init` is called for each thread."
   ],
   "metadata": {}
  },
  {
   "outputs": [],
   "cell_type": "code",
   "source": [
    "init(pythia_mt, w_init);"
   ],
   "metadata": {},
   "execution_count": null
  },
  {
   "cell_type": "markdown",
   "source": [
    "### Create a 1D histogram"
   ],
   "metadata": {}
  },
  {
   "outputs": [],
   "cell_type": "code",
   "source": [
    "mult_mt = Hist1D(binedges=range(-0.5, 499.5, 26));"
   ],
   "metadata": {},
   "execution_count": null
  },
  {
   "cell_type": "markdown",
   "source": [
    "### Generate events\n",
    "Define a user function that will be called for each generated event. This function will\n",
    "be called concurrently by the threads. Therefore, we need to use thread-safe functions. Filling\n",
    "the histogram with `atomic_push` is thread-safe.\n",
    "The function takes a `Pythia` object as the first argument and returns `Nothing`."
   ],
   "metadata": {}
  },
  {
   "outputs": [],
   "cell_type": "code",
   "source": [
    "function analyze(pythiaNow)::Nothing\n",
    "    nCharged = count(p -> isFinal(p) && isCharged(p), pythiaNow |> event)\n",
    "    atomic_push!(mult_mt, nCharged)\n",
    "    return\n",
    "end"
   ],
   "metadata": {},
   "execution_count": null
  },
  {
   "cell_type": "markdown",
   "source": [
    "Run the event generation. The number of events has been set in the `Main:numberOfEvents` parameter."
   ],
   "metadata": {}
  },
  {
   "outputs": [],
   "cell_type": "code",
   "source": [
    "PYTHIA8.run(pythia_mt, analyze);"
   ],
   "metadata": {},
   "execution_count": null
  },
  {
   "cell_type": "markdown",
   "source": [
    "### Print the statistics and plot charged multiplicity distribution\n",
    "Print the statistics using the `stat` function from PYTHIA8.jl"
   ],
   "metadata": {}
  },
  {
   "outputs": [],
   "cell_type": "code",
   "source": [
    "pythia_mt |> PYTHIA8.stat"
   ],
   "metadata": {},
   "execution_count": null
  },
  {
   "cell_type": "markdown",
   "source": [
    "Plot the result histogram"
   ],
   "metadata": {}
  },
  {
   "outputs": [],
   "cell_type": "code",
   "source": [
    "img = plot(mult_mt, xlabel=\"counts\", ylabel=\"#particles\",\n",
    "           title=\"Charged Multiplicity Distribution (multi-threaded)\", seriestype=:stepbins,\n",
    "           c=2, lc=1, fill=0);\n",
    "display(img)"
   ],
   "metadata": {},
   "execution_count": null
  },
  {
   "cell_type": "markdown",
   "source": [
    "## Speed comparison between the two versions\n",
    "We will generate 1000 events and compare the time taken by the two versions."
   ],
   "metadata": {}
  },
  {
   "outputs": [],
   "cell_type": "code",
   "source": [
    "empty!(mult);\n",
    "empty!(mult_mt);"
   ],
   "metadata": {},
   "execution_count": null
  },
  {
   "cell_type": "markdown",
   "source": [
    "### Single-threaded version\n",
    "Generate 1000 events and measure the time taken. This is done using the `@elapsed` macro."
   ],
   "metadata": {}
  },
  {
   "outputs": [],
   "cell_type": "code",
   "source": [
    "st_elap = @elapsed begin\n",
    "    for iEvent in 1:1000\n",
    "        pythia |> next || continue\n",
    "        nCharged = count(p -> isFinal(p) && isCharged(p), pythia |> event)\n",
    "        atomic_push!(mult, nCharged)\n",
    "    end\n",
    "end"
   ],
   "metadata": {},
   "execution_count": null
  },
  {
   "cell_type": "markdown",
   "source": [
    "### Multi-threaded version\n",
    "Generate 1000 events and measure the time taken. This is done using the `@elapsed` macro."
   ],
   "metadata": {}
  },
  {
   "outputs": [],
   "cell_type": "code",
   "source": [
    "pythia_mt << \"Main:numberOfEvents = 1000\"\n",
    "mt_elap = @elapsed begin\n",
    "    PYTHIA8.run(pythia_mt, analyze)\n",
    "end"
   ],
   "metadata": {},
   "execution_count": null
  },
  {
   "cell_type": "markdown",
   "source": [
    "Print the speedup factor (4 threads)"
   ],
   "metadata": {}
  },
  {
   "outputs": [],
   "cell_type": "code",
   "source": [
    "println(\"Speedup is $(st_elap/mt_elap).\")"
   ],
   "metadata": {},
   "execution_count": null
  },
  {
   "cell_type": "markdown",
   "source": [
    "### Make a plot of the speedup factor\n",
    "We will generate events using 1, 2, 4, 8, 16, and 32 threads and plot the speedup factor.\n",
    "The speedup factor is defined as the ratio of the time taken by the single-threaded version\n",
    "to the time taken by the multi-threaded version."
   ],
   "metadata": {}
  },
  {
   "outputs": [],
   "cell_type": "code",
   "source": [
    "n_threads = [2^n for n in 0:5]\n",
    "speedup = Float64[]\n",
    "w_init(pythiaNow)::CxxBool = pythiaNow |> init\n",
    "for n_thread in n_threads\n",
    "    empty!(mult_mt)\n",
    "    _pythia = PYTHIA8.PythiaParallel(\"\", false);\n",
    "    _pythia << \"Beams:eCM = 8000.\" <<\n",
    "               \"HardQCD:all = on\" <<\n",
    "               \"PhaseSpace:pTHatMin = 20.\" <<\n",
    "               \"Parallelism:numThreads = $n_thread\" <<\n",
    "               \"Main:numberOfEvents = 1000\"\n",
    "    init(_pythia, w_init)\n",
    "\n",
    "    elap = @elapsed begin\n",
    "        PYTHIA8.run(_pythia, analyze)\n",
    "    end\n",
    "    push!(speedup, st_elap/elap)\n",
    "end;"
   ],
   "metadata": {},
   "execution_count": null
  },
  {
   "cell_type": "markdown",
   "source": [
    "Plot the speedup factor vs the number of threads and overlay the line for the ideal scaling."
   ],
   "metadata": {}
  },
  {
   "outputs": [],
   "cell_type": "code",
   "source": [
    "img = plot(n_threads, speedup, xlabel=\"#threads\", ylabel=\"speedup\",\n",
    "           title=\"Speedup vs #threads (#cores = $(Sys.CPU_THREADS))\",\n",
    "           seriestype=:scatter, legend=false,\n",
    "           xscale=:log10, yscale=:log10);"
   ],
   "metadata": {},
   "execution_count": null
  },
  {
   "cell_type": "markdown",
   "source": [
    "Add a line to the same plot"
   ],
   "metadata": {}
  },
  {
   "outputs": [],
   "cell_type": "code",
   "source": [
    "plot!(n_threads, n_threads, seriestype=:line)\n",
    "display(img)"
   ],
   "metadata": {},
   "execution_count": null
  },
  {
   "cell_type": "markdown",
   "source": [
    "---\n",
    "\n",
    "*This notebook was generated using [Literate.jl](https://github.com/fredrikekre/Literate.jl).*"
   ],
   "metadata": {}
  }
 ],
 "nbformat_minor": 3,
 "metadata": {
  "language_info": {
   "file_extension": ".jl",
   "mimetype": "application/julia",
   "name": "julia",
   "version": "1.11.5"
  },
  "kernelspec": {
   "name": "julia-1.11",
   "display_name": "Julia 1.11.5",
   "language": "julia"
  }
 },
 "nbformat": 4
}
